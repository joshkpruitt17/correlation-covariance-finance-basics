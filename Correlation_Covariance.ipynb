{
 "cells":[
  {
   "cell_type":"code",
   "source":[
    "import pandas as pd\n",
    "import pandas_datareader.data as web\n",
    "all_data = {ticker: web.get_data_yahoo(ticker)\n",
    "            for ticker in ['SPY', 'QQQ', 'GLD', 'XOP']}\n",
    "\n",
    "price = pd.DataFrame({ticker: data['Adj Close']\n",
    "                      for ticker, data in all_data.items()})\n",
    "volume = pd.DataFrame({ticker: data['Volume']\n",
    "                       for ticker, data in all_data.items()})\n",
    "\n",
    "returns = price.pct_change()\n",
    "\n",
    "returns.tail()\n",
    "\n",
    "returns['GLD'].corr(returns['XOP'])    #allign index values for correlation\n",
    "\n",
    "returns.GLD.corr(returns.XOP)        #concise syntax of correlation\n",
    "\n",
    "returns['GLD'].cov(returns['XOP'])   #allign index values for covariance\n",
    "\n",
    "returns.GLD.cov(returns.XOP)      #concise syntax of covariance\n",
    "\n",
    "returns.corr()      #table of correlations\n",
    "\n",
    "returns.cov()       #table of covariance\n",
    "\n",
    "returns.corrwith(returns.XOP) #Correlations with given variable\n",
    "\n",
    "returns.corrwith(volume)   #Percent changes with volume"
   ],
   "execution_count":1,
   "outputs":[
    {
     "data":{
      "text\/html":[
       
      ]
     },
     "metadata":{
      
     },
     "output_type":"display_data"
    }
   ],
   "metadata":{
    "datalore":{
     "type":"CODE",
     "hide_input_from_viewers":false,
     "hide_output_from_viewers":false
    }
   }
  }
 ],
 "metadata":{
  "datalore":{
   "version":1,
   "computation_mode":"JUPYTER",
   "package_manager":"pip",
   "base_environment":"default",
   "packages":[
    
   ]
  }
 },
 "nbformat":4,
 "nbformat_minor":4
}